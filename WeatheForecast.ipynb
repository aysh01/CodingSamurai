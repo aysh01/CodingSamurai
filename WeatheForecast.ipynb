{
  "cells": [
    {
      "cell_type": "code",
      "execution_count": null,
      "metadata": {
        "colab": {
          "base_uri": "https://localhost:8080/"
        },
        "id": "16K9cXLwcnQT",
        "outputId": "9cc589ad-c44c-41eb-9487-a89b2056a1f1"
      },
      "outputs": [
        {
          "output_type": "stream",
          "name": "stdout",
          "text": [
            "Welcome to Weather Forecast Application..\n",
            "Enter City / Location..\n",
            "\n",
            "Location Cannot be Empty..\n",
            "Welcome to Weather Forecast Application..\n",
            "Enter City / Location..\n",
            "ashks\n",
            "Invalid Location..\n",
            "Welcome to Weather Forecast Application..\n",
            "Enter City / Location..\n",
            "Pune\n",
            "Weather Forecast for..\n",
            "|--- Pune ----|\n",
            "|--- clear sky\n",
            "|--- 33.52 °C\n",
            "|--- 18 %\n",
            "|--- 1.57 m/s\n",
            "Want to Convert Temperature Units..? Yes | No\n",
            "yes\n",
            "Weather Forecast for..\n",
            "|--- Pune ----|\n",
            "|--- clear sky\n",
            "|--- 92.33600000000001 °F\n",
            "|--- 18 %\n",
            "|--- 1.57 m/s\n",
            "Welcome to Weather Forecast Application..\n",
            "Enter City / Location..\n",
            "Nashik\n",
            "Weather Forecast for..\n",
            "|--- Nashik ----|\n",
            "|--- broken clouds\n",
            "|--- 31.45 °C\n",
            "|--- 21 %\n",
            "|--- 4.74 m/s\n",
            "Want to Convert Temperature Units..? Yes | No\n",
            "no\n",
            "Welcome to Weather Forecast Application..\n"
          ]
        }
      ],
      "source": [
        "import requests\n",
        "\n",
        "while True:\n",
        "  print(\"Welcome to Weather Forecast Application..\")\n",
        "  Location=input(\"Enter City / Location..\\n\")\n",
        "  api_key = '46d0bd303abd42bfbfbd437a98eaefee'\n",
        "  url = f\"http://api.openweathermap.org/data/2.5/weather?q={Location}&appid={api_key}&units=metric\"\n",
        "  response = requests.get(url)\n",
        "  data = response.json()\n",
        "\n",
        "  if Location:\n",
        "    if 'weather' not in data:\n",
        "       print(\"Invalid Location..\")\n",
        "       continue\n",
        "\n",
        "    print(\"Weather Forecast for..\\n|---\",Location,\"----|\")\n",
        "    print(\"|---\",data['weather'][0]['description'])\n",
        "    print(\"|---\",data['main']['temp'],\"°C\")\n",
        "    print(\"|---\",data['main']['humidity'],\"%\")\n",
        "    print(\"|---\",data['wind']['speed'],\"m/s\")\n",
        "    # break\n",
        "    a=input(\"Want to Convert Temperature Units..? Yes | No\\n\").lower()\n",
        "    if a == 'yes':\n",
        "      # F=data['main']['temp']*(9/5)+32\n",
        "      # print(str(F))\n",
        "      print(\"Weather Forecast for..\\n|---\",Location,\"----|\")\n",
        "      print(\"|---\",data['weather'][0]['description'])\n",
        "      print(\"|---\",data['main']['temp']*(9/5)+32,\"°F\")\n",
        "      print(\"|---\",data['main']['humidity'],\"%\")\n",
        "      print(\"|---\",data['wind']['speed'],\"m/s\")\n",
        "    else:\n",
        "      pass\n",
        "\n",
        "  elif not Location:\n",
        "    print(\"Location Cannot be Empty..\")\n",
        "    pass\n",
        "  elif data[\"cod\"] == \"404\":\n",
        "    print(\"Location Not Found..\")\n",
        "    pass"
      ]
    }
  ],
  "metadata": {
    "colab": {
      "provenance": []
    },
    "kernelspec": {
      "display_name": "Python 3",
      "name": "python3"
    },
    "language_info": {
      "name": "python"
    }
  },
  "nbformat": 4,
  "nbformat_minor": 0
}